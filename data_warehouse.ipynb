{
 "cells": [
  {
   "cell_type": "code",
   "execution_count": 1,
   "metadata": {},
   "outputs": [],
   "source": [
    "import pandas as pd\n",
    "import boto3\n",
    "import os"
   ]
  },
  {
   "cell_type": "code",
   "execution_count": 20,
   "metadata": {},
   "outputs": [],
   "source": [
    "s3 = boto3.resource(\"s3\",\n",
    "            aws_access_key_id=\"\",\n",
    "            aws_secret_access_key=\"\",\n",
    "        )"
   ]
  },
  {
   "cell_type": "code",
   "execution_count": 23,
   "metadata": {},
   "outputs": [],
   "source": [
    "sampleDbBucket =  s3.Bucket(\"udacity-dend\")\n",
    "\n",
    "i = 0\n",
    "for obj in sampleDbBucket.objects.filter(Prefix=\"log_data\"):\n",
    "    if i == 2:\n",
    "        break\n",
    "    if obj.key != \"log_data/\":\n",
    "        path, filename = os.path.split(obj.key)\n",
    "        sampleDbBucket.download_file(obj.key, filename)\n",
    "    i += 1"
   ]
  },
  {
   "cell_type": "markdown",
   "metadata": {},
   "source": [
    "## Songs"
   ]
  },
  {
   "cell_type": "code",
   "execution_count": null,
   "metadata": {},
   "outputs": [],
   "source": [
    "{\n",
    "    \"artist_id\":\"ARJNIUY12298900C91\",\n",
    "    \"artist_latitude\":null,\n",
    "    \"artist_location\":\"\",\n",
    "    \"artist_longitude\":null,\n",
    "    \"artist_name\":\"Adelitas Way\",\n",
    "    \"duration\":213.9424,\n",
    "    \"num_songs\":1,\n",
    "    \"song_id\":\"SOBLFFE12AF72AA5BA\",\n",
    "    \"title\":\"Scream\",\n",
    "    \"year\":2009\n",
    "}"
   ]
  },
  {
   "cell_type": "markdown",
   "metadata": {},
   "source": [
    "## Events"
   ]
  },
  {
   "cell_type": "code",
   "execution_count": null,
   "metadata": {},
   "outputs": [],
   "source": [
    "{\n",
    "    \"artist\":\"Survivor\",\n",
    "    \"auth\":\"Logged In\",\n",
    "    \"firstName\":\"Jayden\",\n",
    "    \"gender\":\"M\",\n",
    "    \"itemInSession\":0,\n",
    "    \"lastName\":\"Fox\",\n",
    "    \"length\":245.36771,\n",
    "    \"level\":\"free\",\n",
    "    \"location\":\"New Orleans-Metairie, LA\",\n",
    "    \"method\":\"PUT\",\n",
    "    \"page\":\"NextSong\",\n",
    "    \"registration\":1541033612796.0,\n",
    "    \"sessionId\":100,\n",
    "    \"song\":\"Eye Of The Tiger\",\n",
    "    \"status\":200,\n",
    "    \"ts\":1541110994796,\n",
    "    \"userAgent\":\"\\\"Mozilla\\/5.0 (Windows NT 6.3; WOW64) AppleWebKit\\/537.36 (KHTML, like Gecko) Chrome\\/36.0.1985.143 Safari\\/537.36\\\"\",\n",
    "    \"userId\":\"101\"\n",
    "}"
   ]
  },
  {
   "cell_type": "markdown",
   "metadata": {},
   "source": [
    "## CREATE TABLES"
   ]
  },
  {
   "cell_type": "code",
   "execution_count": 1,
   "metadata": {},
   "outputs": [],
   "source": [
    "%run -i 'create_tables.py'"
   ]
  },
  {
   "cell_type": "markdown",
   "metadata": {},
   "source": [
    "## RUN ETL"
   ]
  },
  {
   "cell_type": "code",
   "execution_count": 2,
   "metadata": {},
   "outputs": [],
   "source": [
    "%run -i 'etl.py'"
   ]
  }
 ],
 "metadata": {
  "kernelspec": {
   "display_name": "Python 3.10.4 ('dw')",
   "language": "python",
   "name": "python3"
  },
  "language_info": {
   "codemirror_mode": {
    "name": "ipython",
    "version": 3
   },
   "file_extension": ".py",
   "mimetype": "text/x-python",
   "name": "python",
   "nbconvert_exporter": "python",
   "pygments_lexer": "ipython3",
   "version": "3.10.4"
  },
  "orig_nbformat": 4,
  "vscode": {
   "interpreter": {
    "hash": "ddf4270cbf6e1cc8d9f14ccc7d33280325e7deacbd76bf8c557db61059d7f9b4"
   }
  }
 },
 "nbformat": 4,
 "nbformat_minor": 2
}
